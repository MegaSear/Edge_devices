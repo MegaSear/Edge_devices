{
 "cells": [
  {
   "cell_type": "code",
   "execution_count": null,
   "metadata": {},
   "outputs": [],
   "source": [
    "import Class_robotic_tools as rt\n",
    "import Class_Interpreter as interpreter\n",
    "from Coords_Transform import angles_solver\n",
    "\n",
    "class servo():\n",
    "    def __init__(self):\n",
    "        self.angle = None\n",
    "        pass\n",
    "    def set_angle(self, angle):\n",
    "        self.angle = angle\n",
    "        return\n",
    "\n",
    "num_servo = 3\n",
    "servos = [servo() for i in range(num_servo)]\n",
    "init_angles = [90, 90, 90]\n",
    "\n",
    "robot = rt.Robo_arm(init_angles, servos)\n",
    "transformer = interpreter.Word_Interpreter()\n",
    "points = transformer.translate('abc')\n",
    "\n",
    "start_coords = (0, 5, 0)\n",
    "L1 = 5\n",
    "L2 = 5\n",
    "#Transform coords to roboarm angles\n",
    "angles = []\n",
    "for point in points:\n",
    "    angles.append(angles_solver(start_coords, point, L1, L2))\n",
    "\n",
    "#Roboarm moving\n",
    "for angle in angles:\n",
    "    robot.slow_angles(angle)\n",
    "\n",
    "#Checking\n",
    "print(servos[0].angle, servos[1].angle, servos[2].angle)"
   ]
  }
 ],
 "metadata": {
  "kernelspec": {
   "display_name": "base",
   "language": "python",
   "name": "python3"
  },
  "language_info": {
   "codemirror_mode": {
    "name": "ipython",
    "version": 3
   },
   "file_extension": ".py",
   "mimetype": "text/x-python",
   "name": "python",
   "nbconvert_exporter": "python",
   "pygments_lexer": "ipython3",
   "version": "3.10.13"
  }
 },
 "nbformat": 4,
 "nbformat_minor": 2
}
