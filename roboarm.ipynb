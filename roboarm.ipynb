{
 "cells": [
  {
   "cell_type": "code",
   "execution_count": 1,
   "metadata": {},
   "outputs": [
    {
     "name": "stdout",
     "output_type": "stream",
     "text": [
      "Рассчёт углов...\n"
     ]
    }
   ],
   "source": [
    "import time\n",
    "import smbus\n",
    "import PCA9685\n",
    "import ServoPCA9685\n",
    "import Class_robotic_tools as rt\n",
    "import Class_Interpreter as interpreter\n",
    "from Coords_Transform import angles_solver\n",
    "\n",
    "i2cBus = smbus.SMBus(3)\n",
    "pca9685 = PCA9685.PCA9685(i2cBus)\n",
    "servo15 = ServoPCA9685.ServoPCA9685(pca9685, PCA9685.CHANNEL15) #fi1\n",
    "servo14 = ServoPCA9685.ServoPCA9685(pca9685, PCA9685.CHANNEL14) #fi2\n",
    "servo13 = ServoPCA9685.ServoPCA9685(pca9685, PCA9685.CHANNEL13) #fi3\n",
    "# servo03 = ServoPCA9685.ServoPCA9685(pca9685, PCA9685.CHANNEL12)\n",
    "\n",
    "#num_servo = 3\n",
    "#servos = [servo() for i in range(num_servo)]\n",
    "servos = [servo15, servo14, servo13]\n",
    "init_angles = [90, 90, 90]\n",
    "\n",
    "robot = rt.Robo_arm(init_angles, servos)\n",
    "transformer = interpreter.Word_Interpreter()\n",
    "points = transformer.translate('a')\n",
    "\n",
    "L1 = 11.7\n",
    "L2 = 14\n",
    "\n",
    "#Transform coords to roboarm angles\n",
    "angles = []\n",
    "print(\"Рассчёт углов...\")\n",
    "for point in points:\n",
    "    angles.append(angles_solver(point, L1, L2))\n",
    "    "
   ]
  },
  {
   "cell_type": "code",
   "execution_count": 2,
   "metadata": {},
   "outputs": [
    {
     "name": "stdout",
     "output_type": "stream",
     "text": [
      "Движений насчитано: 8\n",
      "Роборука пишет...\n",
      "Движение 0 выполнено!\n",
      "Движение 1 выполнено!\n",
      "Движение 2 выполнено!\n",
      "Движение 3 выполнено!\n",
      "Движение 4 выполнено!\n",
      "Движение 5 выполнено!\n",
      "Движение 6 выполнено!\n",
      "Движение 7 выполнено!\n"
     ]
    }
   ],
   "source": [
    "#Roboarm moving\n",
    "print(\"Движений насчитано:\", len(angles))\n",
    "print(\"Роборука пишет...\")\n",
    "for i, angle in enumerate(angles):\n",
    "    robot.slow_angles(angle)\n",
    "    print(f'Движение {i} выполнено!')"
   ]
  },
  {
   "cell_type": "code",
   "execution_count": null,
   "metadata": {},
   "outputs": [],
   "source": [
    "[servo.disable() for servo in servos]"
   ]
  },
  {
   "cell_type": "code",
   "execution_count": 2,
   "metadata": {},
   "outputs": [],
   "source": [
    "import time\n",
    "import smbus\n",
    "import PCA9685\n",
    "import ServoPCA9685\n",
    "import Class_robotic_tools as rt\n",
    "import Class_Interpreter as interpreter\n",
    "from Coords_Transform import angles_solver\n",
    "\n",
    "i2cBus = smbus.SMBus(3)\n",
    "pca9685 = PCA9685.PCA9685(i2cBus)\n",
    "servo15 = ServoPCA9685.ServoPCA9685(pca9685, PCA9685.CHANNEL15) #fi1\n",
    "servo14 = ServoPCA9685.ServoPCA9685(pca9685, PCA9685.CHANNEL14) #fi2\n",
    "servo13 = ServoPCA9685.ServoPCA9685(pca9685, PCA9685.CHANNEL13) #fi3\n",
    "\n",
    "servos = [servo15, servo14, servo13]\n",
    "init_angles = [90, 90, 90]\n",
    "\n",
    "robot = rt.Robo_arm(init_angles, servos)\n",
    "\n",
    "L1 = 11.8\n",
    "L2 = 17.5\n"
   ]
  },
  {
   "cell_type": "code",
   "execution_count": 4,
   "metadata": {},
   "outputs": [
    {
     "data": {
      "text/plain": [
       "[None, None, None]"
      ]
     },
     "execution_count": 4,
     "metadata": {},
     "output_type": "execute_result"
    }
   ],
   "source": [
    "[servo.disable() for servo in servos]"
   ]
  },
  {
   "cell_type": "code",
   "execution_count": 5,
   "metadata": {},
   "outputs": [],
   "source": [
    "angle = angles_solver((7, 7, 10), L1, L2)\n",
    "robot.slow_angles(angle)"
   ]
  },
  {
   "cell_type": "code",
   "execution_count": 7,
   "metadata": {},
   "outputs": [],
   "source": [
    "angle = angles_solver((15, 15, 10), L1, L2)\n",
    "robot.slow_angles(angle)"
   ]
  },
  {
   "cell_type": "code",
   "execution_count": null,
   "metadata": {},
   "outputs": [],
   "source": [
    "angle = angles_solver((2, 9, 10), L1, L2)\n",
    "robot.slow_angles(angle)"
   ]
  }
 ],
 "metadata": {
  "kernelspec": {
   "display_name": "base",
   "language": "python",
   "name": "python3"
  },
  "language_info": {
   "codemirror_mode": {
    "name": "ipython",
    "version": 3
   },
   "file_extension": ".py",
   "mimetype": "text/x-python",
   "name": "python",
   "nbconvert_exporter": "python",
   "pygments_lexer": "ipython3",
   "version": "3.8.10"
  }
 },
 "nbformat": 4,
 "nbformat_minor": 2
}
